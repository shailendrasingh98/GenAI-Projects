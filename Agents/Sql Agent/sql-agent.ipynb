{
 "cells": [
  {
   "cell_type": "code",
   "execution_count": 2,
   "id": "28349096",
   "metadata": {},
   "outputs": [],
   "source": [
    "import os\n",
    "from dotenv import load_dotenv\n",
    "import pandas as pd\n",
    "from langchain_community.utilities import SQLDatabase\n",
    "from sqlalchemy import create_engine, inspect, text\n",
    "import warnings\n",
    "warnings.filterwarnings(\"ignore\")"
   ]
  },
  {
   "cell_type": "code",
   "execution_count": 3,
   "id": "a4c3c068",
   "metadata": {},
   "outputs": [
    {
     "data": {
      "text/html": [
       "<div>\n",
       "<style scoped>\n",
       "    .dataframe tbody tr th:only-of-type {\n",
       "        vertical-align: middle;\n",
       "    }\n",
       "\n",
       "    .dataframe tbody tr th {\n",
       "        vertical-align: top;\n",
       "    }\n",
       "\n",
       "    .dataframe thead th {\n",
       "        text-align: right;\n",
       "    }\n",
       "</style>\n",
       "<table border=\"1\" class=\"dataframe\">\n",
       "  <thead>\n",
       "    <tr style=\"text-align: right;\">\n",
       "      <th></th>\n",
       "      <th>PlayerID</th>\n",
       "      <th>Age</th>\n",
       "      <th>Gender</th>\n",
       "      <th>Location</th>\n",
       "      <th>GameGenre</th>\n",
       "      <th>PlayTimeHours</th>\n",
       "      <th>InGamePurchases</th>\n",
       "      <th>GameDifficulty</th>\n",
       "      <th>SessionsPerWeek</th>\n",
       "      <th>AvgSessionDurationMinutes</th>\n",
       "      <th>PlayerLevel</th>\n",
       "      <th>AchievementsUnlocked</th>\n",
       "      <th>EngagementLevel</th>\n",
       "    </tr>\n",
       "  </thead>\n",
       "  <tbody>\n",
       "    <tr>\n",
       "      <th>0</th>\n",
       "      <td>9000</td>\n",
       "      <td>43</td>\n",
       "      <td>Male</td>\n",
       "      <td>Other</td>\n",
       "      <td>Strategy</td>\n",
       "      <td>16.271119</td>\n",
       "      <td>0</td>\n",
       "      <td>Medium</td>\n",
       "      <td>6</td>\n",
       "      <td>108</td>\n",
       "      <td>79</td>\n",
       "      <td>25</td>\n",
       "      <td>Medium</td>\n",
       "    </tr>\n",
       "    <tr>\n",
       "      <th>1</th>\n",
       "      <td>9001</td>\n",
       "      <td>29</td>\n",
       "      <td>Female</td>\n",
       "      <td>USA</td>\n",
       "      <td>Strategy</td>\n",
       "      <td>5.525961</td>\n",
       "      <td>0</td>\n",
       "      <td>Medium</td>\n",
       "      <td>5</td>\n",
       "      <td>144</td>\n",
       "      <td>11</td>\n",
       "      <td>10</td>\n",
       "      <td>Medium</td>\n",
       "    </tr>\n",
       "    <tr>\n",
       "      <th>2</th>\n",
       "      <td>9002</td>\n",
       "      <td>22</td>\n",
       "      <td>Female</td>\n",
       "      <td>USA</td>\n",
       "      <td>Sports</td>\n",
       "      <td>8.223755</td>\n",
       "      <td>0</td>\n",
       "      <td>Easy</td>\n",
       "      <td>16</td>\n",
       "      <td>142</td>\n",
       "      <td>35</td>\n",
       "      <td>41</td>\n",
       "      <td>High</td>\n",
       "    </tr>\n",
       "    <tr>\n",
       "      <th>3</th>\n",
       "      <td>9003</td>\n",
       "      <td>35</td>\n",
       "      <td>Male</td>\n",
       "      <td>USA</td>\n",
       "      <td>Action</td>\n",
       "      <td>5.265351</td>\n",
       "      <td>1</td>\n",
       "      <td>Easy</td>\n",
       "      <td>9</td>\n",
       "      <td>85</td>\n",
       "      <td>57</td>\n",
       "      <td>47</td>\n",
       "      <td>Medium</td>\n",
       "    </tr>\n",
       "    <tr>\n",
       "      <th>4</th>\n",
       "      <td>9004</td>\n",
       "      <td>33</td>\n",
       "      <td>Male</td>\n",
       "      <td>Europe</td>\n",
       "      <td>Action</td>\n",
       "      <td>15.531945</td>\n",
       "      <td>0</td>\n",
       "      <td>Medium</td>\n",
       "      <td>2</td>\n",
       "      <td>131</td>\n",
       "      <td>95</td>\n",
       "      <td>37</td>\n",
       "      <td>Medium</td>\n",
       "    </tr>\n",
       "  </tbody>\n",
       "</table>\n",
       "</div>"
      ],
      "text/plain": [
       "   PlayerID  Age  Gender Location GameGenre  PlayTimeHours  InGamePurchases  \\\n",
       "0      9000   43    Male    Other  Strategy      16.271119                0   \n",
       "1      9001   29  Female      USA  Strategy       5.525961                0   \n",
       "2      9002   22  Female      USA    Sports       8.223755                0   \n",
       "3      9003   35    Male      USA    Action       5.265351                1   \n",
       "4      9004   33    Male   Europe    Action      15.531945                0   \n",
       "\n",
       "  GameDifficulty  SessionsPerWeek  AvgSessionDurationMinutes  PlayerLevel  \\\n",
       "0         Medium                6                        108           79   \n",
       "1         Medium                5                        144           11   \n",
       "2           Easy               16                        142           35   \n",
       "3           Easy                9                         85           57   \n",
       "4         Medium                2                        131           95   \n",
       "\n",
       "   AchievementsUnlocked EngagementLevel  \n",
       "0                    25          Medium  \n",
       "1                    10          Medium  \n",
       "2                    41            High  \n",
       "3                    47          Medium  \n",
       "4                    37          Medium  "
      ]
     },
     "execution_count": 3,
     "metadata": {},
     "output_type": "execute_result"
    }
   ],
   "source": [
    "df = pd.read_csv('online_gaming_behavior_dataset.csv')\n",
    "df.head(5)"
   ]
  },
  {
   "cell_type": "code",
   "execution_count": 9,
   "id": "b74449c2",
   "metadata": {},
   "outputs": [
    {
     "data": {
      "text/plain": [
       "(40034, 13)"
      ]
     },
     "execution_count": 9,
     "metadata": {},
     "output_type": "execute_result"
    }
   ],
   "source": [
    "df.shape"
   ]
  },
  {
   "cell_type": "code",
   "execution_count": 4,
   "id": "3251b67a",
   "metadata": {},
   "outputs": [],
   "source": [
    "path = \"/sqldb.db\"\n",
    "# create db engine \n",
    "engine = create_engine(f'sqlite://{path}', echo=False)\n",
    "# insert the csv data to sql table\n",
    "#df.to_sql(name='online_gaming_behavior_dataset', con=engine)"
   ]
  },
  {
   "cell_type": "code",
   "execution_count": 5,
   "id": "24aa1ba3",
   "metadata": {},
   "outputs": [
    {
     "data": {
      "text/plain": [
       "['online_gaming_behavior_dataset']"
      ]
     },
     "execution_count": 5,
     "metadata": {},
     "output_type": "execute_result"
    }
   ],
   "source": [
    "# The Table name create in db\n",
    "inspect(engine).get_table_names()"
   ]
  },
  {
   "cell_type": "code",
   "execution_count": 8,
   "id": "7a7edff3",
   "metadata": {},
   "outputs": [
    {
     "name": "stdout",
     "output_type": "stream",
     "text": [
      "40034\n"
     ]
    }
   ],
   "source": [
    "\n",
    "# Let's check if data is inserted correctly\n",
    "conn = engine.connect()\n",
    "res = conn.execute(text(\"SELECT * FROM online_gaming_behavior_dataset\")).fetchall()\n",
    "conn.close()\n",
    "print(len(res))"
   ]
  },
  {
   "cell_type": "code",
   "execution_count": 7,
   "id": "c4438b9b",
   "metadata": {},
   "outputs": [
    {
     "name": "stdout",
     "output_type": "stream",
     "text": [
      "sqlite\n",
      "['online_gaming_behavior_dataset']\n"
     ]
    },
    {
     "data": {
      "text/plain": [
       "\"[(0, 9000, 43, 'Male', 'Other', 'Strategy', 16.271118760553215, 0, 'Medium', 6, 108, 79, 25, 'Medium'), (1, 9001, 29, 'Female', 'USA', 'Strategy', 5.525961380570566, 0, 'Medium', 5, 144, 11, 10, 'Medium'), (2, 9002, 22, 'Female', 'USA', 'Sports', 8.223755243499511, 0, 'Easy', 16, 142, 35, 41, 'High'), (3, 9003, 35, 'Male', 'USA', 'Action', 5.265351277318268, 1, 'Easy', 9, 85, 57, 47, 'Medium'), (4, 9004, 33, 'Male', 'Europe', 'Action', 15.53194452113429, 0, 'Medium', 2, 131, 95, 37, 'Medium'), (5, 9005, 37, 'Male', 'Europe', 'RPG', 20.561855414112557, 0, 'Easy', 2, 81, 74, 22, 'Low'), (6, 9006, 25, 'Male', 'USA', 'Action', 9.752716365932256, 0, 'Hard', 1, 50, 13, 2, 'Low'), (7, 9007, 25, 'Female', 'Asia', 'RPG', 4.401729344841462, 0, 'Medium', 10, 48, 27, 23, 'Medium'), (8, 9008, 38, 'Female', 'Europe', 'Simulation', 18.15273259575482, 0, 'Easy', 5, 101, 23, 41, 'Medium'), (9, 9009, 38, 'Female', 'Other', 'Sports', 23.942771725289525, 0, 'Easy', 13, 95, 99, 36, 'High')]\""
      ]
     },
     "execution_count": 7,
     "metadata": {},
     "output_type": "execute_result"
    }
   ],
   "source": [
    "# we can also connect using the langchain library \n",
    "db = SQLDatabase.from_uri(f\"sqlite://{path}\")\n",
    "print(db.dialect)\n",
    "print(db.get_usable_table_names())\n",
    "db.run(\"SELECT * FROM online_gaming_behavior_dataset LIMIT 10;\")"
   ]
  },
  {
   "cell_type": "code",
   "execution_count": 3,
   "id": "1fb1c604",
   "metadata": {},
   "outputs": [
    {
     "name": "stdout",
     "output_type": "stream",
     "text": [
      "Are environment variables loaded?: True\n",
      "Is required API Key present?: True\n"
     ]
    }
   ],
   "source": [
    "print(\"Are environment variables loaded?:\", load_dotenv())\n",
    "print(\"Is required API Key present?:\", bool(os.getenv(\"GOOGLE_API_KEY\")))"
   ]
  },
  {
   "cell_type": "code",
   "execution_count": null,
   "id": "34444753",
   "metadata": {},
   "outputs": [],
   "source": [
    "# %pip install -qU langchain-google-genai\n",
    "# To access Google AI models you'll need to create a Google Acount account, \n",
    "# get a Google AI API key, and install the langchain-google-genai integration package.\n",
    "from langchain_google_genai import ChatGoogleGenerativeAI\n",
    "\n",
    "llm = ChatGoogleGenerativeAI(\n",
    "    model=\"gemini-2.0-flash-001\",\n",
    "    temperature=0,\n",
    "    max_tokens=1000,\n",
    "    timeout=None,\n",
    "    max_retries=2,\n",
    ")"
   ]
  },
  {
   "cell_type": "code",
   "execution_count": null,
   "id": "cc72bb5d",
   "metadata": {},
   "outputs": [],
   "source": [
    "# Create sql agent using the langchain, it handles all required instrunction for sql agent.\n",
    "from langchain_community.agent_toolkits import create_sql_agent\n",
    "agent_executor = create_sql_agent(llm, db=db, agent_type=\"openai-tools\", verbose=True)"
   ]
  },
  {
   "cell_type": "code",
   "execution_count": null,
   "id": "b0865815",
   "metadata": {},
   "outputs": [
    {
     "name": "stdout",
     "output_type": "stream",
     "text": [
      "\n",
      "\n",
      "\u001b[1m> Entering new SQL Agent Executor chain...\u001b[0m\n",
      "\u001b[32;1m\u001b[1;3m\n",
      "Invoking: `sql_db_list_tables` with `{}`\n",
      "responded:  Finally, I should construct a query to answer the question.\n",
      "\n",
      "\u001b[0m\u001b[38;5;200m\u001b[1;3monline_gaming_behavior_dataset\u001b[0m\u001b[32;1m\u001b[1;3m\n",
      "Invoking: `sql_db_schema` with `{'table_names': 'online_gaming_behavior_dataset'}`\n",
      "\n",
      "\n",
      "\u001b[0m\u001b[33;1m\u001b[1;3m\n",
      "CREATE TABLE online_gaming_behavior_dataset (\n",
      "\t\"index\" BIGINT, \n",
      "\t\"PlayerID\" BIGINT, \n",
      "\t\"Age\" BIGINT, \n",
      "\t\"Gender\" TEXT, \n",
      "\t\"Location\" TEXT, \n",
      "\t\"GameGenre\" TEXT, \n",
      "\t\"PlayTimeHours\" FLOAT, \n",
      "\t\"InGamePurchases\" BIGINT, \n",
      "\t\"GameDifficulty\" TEXT, \n",
      "\t\"SessionsPerWeek\" BIGINT, \n",
      "\t\"AvgSessionDurationMinutes\" BIGINT, \n",
      "\t\"PlayerLevel\" BIGINT, \n",
      "\t\"AchievementsUnlocked\" BIGINT, \n",
      "\t\"EngagementLevel\" TEXT\n",
      ")\n",
      "\n",
      "/*\n",
      "3 rows from online_gaming_behavior_dataset table:\n",
      "index\tPlayerID\tAge\tGender\tLocation\tGameGenre\tPlayTimeHours\tInGamePurchases\tGameDifficulty\tSessionsPerWeek\tAvgSessionDurationMinutes\tPlayerLevel\tAchievementsUnlocked\tEngagementLevel\n",
      "0\t9000\t43\tMale\tOther\tStrategy\t16.271118760553215\t0\tMedium\t6\t108\t79\t25\tMedium\n",
      "1\t9001\t29\tFemale\tUSA\tStrategy\t5.525961380570566\t0\tMedium\t5\t144\t11\t10\tMedium\n",
      "2\t9002\t22\tFemale\tUSA\tSports\t8.223755243499511\t0\tEasy\t16\t142\t35\t41\tHigh\n",
      "*/\u001b[0m\u001b[32;1m\u001b[1;3m\n",
      "Invoking: `sql_db_query_checker` with `{'query': 'SELECT Location, COUNT(*) AS PlayerCount FROM online_gaming_behavior_dataset GROUP BY Location ORDER BY PlayerCount DESC LIMIT 1;'}`\n",
      "responded: The table `online_gaming_behavior_dataset` has a `Location` column, which I assume represents the player's country. I can count the number of players from each country and find the country with the highest number of players.\n",
      "\n",
      "\u001b[0m\u001b[36;1m\u001b[1;3m```sql\n",
      "SELECT Location, COUNT(*) AS PlayerCount FROM online_gaming_behavior_dataset GROUP BY Location ORDER BY PlayerCount DESC LIMIT 1;\n",
      "```\u001b[0m\u001b[32;1m\u001b[1;3m\n",
      "Invoking: `sql_db_query` with `{'query': 'SELECT Location, COUNT(*) AS PlayerCount FROM online_gaming_behavior_dataset GROUP BY Location ORDER BY PlayerCount DESC LIMIT 1;'}`\n",
      "\n",
      "\n",
      "\u001b[0m\u001b[36;1m\u001b[1;3m[('USA', 16000)]\u001b[0m\u001b[32;1m\u001b[1;3mThe country with the highest number of players is USA with 16000 players.\u001b[0m\n",
      "\n",
      "\u001b[1m> Finished chain.\u001b[0m\n"
     ]
    }
   ],
   "source": [
    "# Let's ask question to Agent and get the answer from our dataset.\n",
    "result = agent_executor.invoke({\"input\": \"What is country with highest no. of players\"})"
   ]
  },
  {
   "cell_type": "code",
   "execution_count": 24,
   "id": "2f370484",
   "metadata": {},
   "outputs": [
    {
     "data": {
      "text/plain": [
       "{'input': 'What is country with highest no. of players',\n",
       " 'output': 'The country with the highest number of players is USA with 16000 players.'}"
      ]
     },
     "execution_count": 24,
     "metadata": {},
     "output_type": "execute_result"
    }
   ],
   "source": [
    "result"
   ]
  },
  {
   "cell_type": "code",
   "execution_count": 36,
   "id": "f9233ca6",
   "metadata": {},
   "outputs": [
    {
     "data": {
      "text/plain": [
       "16000"
      ]
     },
     "execution_count": 36,
     "metadata": {},
     "output_type": "execute_result"
    }
   ],
   "source": [
    "# below is the query run by Agent and same can be achieved by dataframe.\n",
    "#query = SELECT Location, COUNT(*) AS PlayerCount FROM online_gaming_behavior_dataset GROUP BY Location ORDER BY PlayerCount DESC LIMIT 1;\n",
    "df.groupby(by=['Location']).count().max()['PlayerID']"
   ]
  },
  {
   "cell_type": "code",
   "execution_count": null,
   "id": "ccb1454c",
   "metadata": {},
   "outputs": [
    {
     "name": "stdout",
     "output_type": "stream",
     "text": [
      "\n",
      "\n",
      "\u001b[1m> Entering new SQL Agent Executor chain...\u001b[0m\n",
      "\u001b[32;1m\u001b[1;3m\n",
      "Invoking: `sql_db_list_tables` with `{}`\n",
      "responded:  Finally, I should construct a query to answer the question.\n",
      "\n",
      "\u001b[0m\u001b[38;5;200m\u001b[1;3monline_gaming_behavior_dataset\u001b[0m\u001b[32;1m\u001b[1;3m\n",
      "Invoking: `sql_db_schema` with `{'table_names': 'online_gaming_behavior_dataset'}`\n",
      "\n",
      "\n",
      "\u001b[0m\u001b[33;1m\u001b[1;3m\n",
      "CREATE TABLE online_gaming_behavior_dataset (\n",
      "\t\"index\" BIGINT, \n",
      "\t\"PlayerID\" BIGINT, \n",
      "\t\"Age\" BIGINT, \n",
      "\t\"Gender\" TEXT, \n",
      "\t\"Location\" TEXT, \n",
      "\t\"GameGenre\" TEXT, \n",
      "\t\"PlayTimeHours\" FLOAT, \n",
      "\t\"InGamePurchases\" BIGINT, \n",
      "\t\"GameDifficulty\" TEXT, \n",
      "\t\"SessionsPerWeek\" BIGINT, \n",
      "\t\"AvgSessionDurationMinutes\" BIGINT, \n",
      "\t\"PlayerLevel\" BIGINT, \n",
      "\t\"AchievementsUnlocked\" BIGINT, \n",
      "\t\"EngagementLevel\" TEXT\n",
      ")\n",
      "\n",
      "/*\n",
      "3 rows from online_gaming_behavior_dataset table:\n",
      "index\tPlayerID\tAge\tGender\tLocation\tGameGenre\tPlayTimeHours\tInGamePurchases\tGameDifficulty\tSessionsPerWeek\tAvgSessionDurationMinutes\tPlayerLevel\tAchievementsUnlocked\tEngagementLevel\n",
      "0\t9000\t43\tMale\tOther\tStrategy\t16.271118760553215\t0\tMedium\t6\t108\t79\t25\tMedium\n",
      "1\t9001\t29\tFemale\tUSA\tStrategy\t5.525961380570566\t0\tMedium\t5\t144\t11\t10\tMedium\n",
      "2\t9002\t22\tFemale\tUSA\tSports\t8.223755243499511\t0\tEasy\t16\t142\t35\t41\tHigh\n",
      "*/\u001b[0m\u001b[32;1m\u001b[1;3m\n",
      "Invoking: `sql_db_query` with `{'query': 'SELECT Gender, AVG(PlayTimeHours) AS AveragePlayTime FROM online_gaming_behavior_dataset GROUP BY Gender'}`\n",
      "\n",
      "\n",
      "\u001b[0m\u001b[36;1m\u001b[1;3m[('Female', 11.96937642558568), ('Male', 12.061259539815362)]\u001b[0m\u001b[32;1m\u001b[1;3m\n",
      "Invoking: `sql_db_query` with `{'query': 'SELECT Location, Age, AVG(PlayTimeHours) AS AveragePlayTime FROM online_gaming_behavior_dataset GROUP BY Location, Age ORDER BY AveragePlayTime ASC LIMIT 1'}`\n",
      "responded: The average playtime for females is 11.97 hours and for males is 12.06 hours. So, female players played slightly less compared to male players. Now, let's find the country and age group with the minimum playtime.\n",
      "\n",
      "\u001b[0m\u001b[36;1m\u001b[1;3m[('Other', 40, 10.643997602452252)]\u001b[0m\u001b[32;1m\u001b[1;3mThe average playtime for females is 11.97 hours, while the average playtime for males is 12.06 hours. The location and age group with the minimum average playtime is 'Other' at age 40, with an average playtime of 10.64 hours.\u001b[0m\n",
      "\n",
      "\u001b[1m> Finished chain.\u001b[0m\n"
     ]
    }
   ],
   "source": [
    "result = agent_executor.invoke({\"input\": \"Do you think female players had played less compared to others and if so which country and age group has the minimum?\"})"
   ]
  },
  {
   "cell_type": "code",
   "execution_count": 41,
   "id": "80fc437f",
   "metadata": {},
   "outputs": [
    {
     "data": {
      "text/markdown": [
       "Do you think female players had played less compared to others and if which country and age group has the minimum?"
      ],
      "text/plain": [
       "<IPython.core.display.Markdown object>"
      ]
     },
     "metadata": {},
     "output_type": "display_data"
    },
    {
     "data": {
      "text/markdown": [
       "The average playtime for females is 11.97 hours, while the average playtime for males is 12.06 hours. The location and age group with the minimum average playtime is 'Other' at age 40, with an average playtime of 10.64 hours."
      ],
      "text/plain": [
       "<IPython.core.display.Markdown object>"
      ]
     },
     "metadata": {},
     "output_type": "display_data"
    }
   ],
   "source": [
    "from IPython.display import display, Markdown\n",
    "display(Markdown(result['input']))\n",
    "display(Markdown(result['output']))"
   ]
  },
  {
   "cell_type": "code",
   "execution_count": null,
   "id": "9293d39e",
   "metadata": {},
   "outputs": [],
   "source": []
  }
 ],
 "metadata": {
  "kernelspec": {
   "display_name": ".venv",
   "language": "python",
   "name": "python3"
  },
  "language_info": {
   "codemirror_mode": {
    "name": "ipython",
    "version": 3
   },
   "file_extension": ".py",
   "mimetype": "text/x-python",
   "name": "python",
   "nbconvert_exporter": "python",
   "pygments_lexer": "ipython3",
   "version": "3.12.10"
  }
 },
 "nbformat": 4,
 "nbformat_minor": 5
}
