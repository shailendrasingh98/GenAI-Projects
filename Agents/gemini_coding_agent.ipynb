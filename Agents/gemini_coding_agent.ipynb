{
 "cells": [
  {
   "cell_type": "code",
   "execution_count": 20,
   "id": "e0fbfd24",
   "metadata": {},
   "outputs": [],
   "source": [
    "# Install the google-genai SDK for this codelab.\n",
    "#!pip install -qU 'google-genai==1.7.0'"
   ]
  },
  {
   "cell_type": "code",
   "execution_count": 21,
   "id": "fd76816d",
   "metadata": {},
   "outputs": [
    {
     "data": {
      "text/plain": [
       "'1.7.0'"
      ]
     },
     "execution_count": 21,
     "metadata": {},
     "output_type": "execute_result"
    }
   ],
   "source": [
    "from google import genai\n",
    "from google.genai import types\n",
    "import os\n",
    "from IPython.display import Markdown, HTML, display\n",
    "\n",
    "genai.__version__"
   ]
  },
  {
   "cell_type": "code",
   "execution_count": 22,
   "id": "c9ea15ba",
   "metadata": {},
   "outputs": [],
   "source": [
    "# Define a retry policy. The model might make multiple consecutive calls automatically\n",
    "# for a complex query, this ensures the client retries if it hits quota limits.\n",
    "from google.api_core import retry\n",
    "\n",
    "is_retriable = lambda e: (isinstance(e, genai.errors.APIError) and e.code in {429, 503})\n",
    "\n",
    "if not hasattr(genai.models.Models.generate_content, \"__wrapped__\"):\n",
    "    genai.models.Models.generate_content = retry.Retry(predicate=is_retriable)(\n",
    "        genai.models.Models.generate_content\n",
    "    )"
   ]
  },
  {
   "cell_type": "code",
   "execution_count": null,
   "id": "298fcf46",
   "metadata": {},
   "outputs": [],
   "source": [
    "GOOGLE_API_KEY = \"Your Google API Key\""
   ]
  },
  {
   "cell_type": "code",
   "execution_count": 24,
   "id": "00eae107",
   "metadata": {},
   "outputs": [],
   "source": [
    "from IPython.display import display, Image, Markdown\n",
    "\n",
    "\n",
    "def show_response(response):\n",
    "    for p in response.candidates[0].content.parts:\n",
    "        if p.text:\n",
    "            display(Markdown(p.text))\n",
    "        elif p.inline_data:\n",
    "            display(Image(p.inline_data.data))\n",
    "        else:\n",
    "            print(p.to_json_dict())\n",
    "\n",
    "        display(Markdown(\"----\"))"
   ]
  },
  {
   "cell_type": "code",
   "execution_count": 25,
   "id": "81113d41",
   "metadata": {},
   "outputs": [],
   "source": [
    "class GeminiCodingAgent:\n",
    "    def __init__(self, api_key=None, model_name=\"gemini-2.0-flash\"):\n",
    "        \"\"\"\n",
    "        Initializes the GeminiCodingAgent with a Google Gemini model.\n",
    "        Ensure you have a Google Cloud API key set as an environment variable\n",
    "        GOOGLE_API_KEY or provide it during initialization.\n",
    "        \"\"\"\n",
    "        self.model_name = model_name\n",
    "        self.api_key = api_key or os.environ.get(\"GOOGLE_API_KEY\")\n",
    "        if not self.api_key:\n",
    "            raise ValueError(\n",
    "                \"Google API key is required. Set the GOOGLE_API_KEY environment variable or provide it during initialization.\"\n",
    "            )\n",
    "\n",
    "        # genai.configure(api_key=self.api_key)\n",
    "\n",
    "        try:\n",
    "            self.client = genai.Client(api_key=GOOGLE_API_KEY)\n",
    "            # self.model = genai.GenerativeModel(self.model_name)\n",
    "            print(f\"Successfully initialized Gemini model: {self.model_name}\")\n",
    "        except Exception as e:\n",
    "            print(f\"Error initializing Gemini model {self.model_name}: {e}\")\n",
    "            self.client = None\n",
    "\n",
    "    def generate_code(\n",
    "        self, user_prompt, max_output_tokens=1000, num_return_sequences=1\n",
    "    ):\n",
    "        \"\"\"\n",
    "        Generates Python code using the Gemini model based on the user's prompt.\n",
    "\n",
    "        Args:\n",
    "            user_prompt (str): The natural language description of the desired code.\n",
    "            max_output_tokens (int): The maximum number of tokens in the generated code.\n",
    "            num_return_sequences (int): The number of code snippets to generate (Gemini might handle this differently).\n",
    "\n",
    "        Returns:\n",
    "            ressponse: res or None if the model is not initialized.\n",
    "        \"\"\"\n",
    "        config_with_search = types.GenerateContentConfig(\n",
    "            tools=[types.Tool(google_search=types.GoogleSearch())],\n",
    "            max_output_tokens=max_output_tokens,\n",
    "            candidate_count=num_return_sequences,\n",
    "            # system_instruction=self.system_prompt(),\n",
    "        )\n",
    "\n",
    "        if self.client:\n",
    "            try:\n",
    "                response = self.client.models.generate_content(\n",
    "                    model=self.model_name,\n",
    "                    contents=user_prompt,\n",
    "                    config=config_with_search,\n",
    "                )\n",
    "                return response\n",
    "                # return [part.text for part in response.candidates[0].content.parts if hasattr(part, \"text\")]\n",
    "            except Exception as e:\n",
    "                print(f\"Error during code generation with Gemini: {e}\")\n",
    "                return None\n",
    "        else:\n",
    "            print(\"Gemini model not initialized.\")\n",
    "            return None\n",
    "\n",
    "    def system_prompt(self):\n",
    "        return \"\"\"You are a helpful chatbot that can answers all question related to coding. \n",
    "        You will take the users questions and return answer with minimum words possible.\n",
    "        queries using the tools available. Once you have the information you need, you will\n",
    "        answer the user's question using the data returned.\n",
    "        you can use google search tool for any latest information from the internet\n",
    "        or if user asking for google search.\n",
    "        \"\"\"\n",
    "\n",
    "    def interact(self):\n",
    "        \"\"\"\n",
    "        Basic interaction loop with the Gemini coding agent.\n",
    "        \"\"\"\n",
    "        display(Markdown(\"----\" * 20))\n",
    "        display(Markdown(\"## Welcome to the Gemini-powered Coding Assistant!\"))\n",
    "        while True:\n",
    "            user_input = input(\"Describe the Python code you need (or type 'exit'): \")\n",
    "            if user_input.lower() == \"exit\":\n",
    "                break\n",
    "\n",
    "            if self.client:\n",
    "                print(\"Generating code using Gemini...\")\n",
    "                print(f\"Q. {user_input}\\n\")\n",
    "                response = self.generate_code(user_input)\n",
    "                if response:\n",
    "                    show_response(response)\n",
    "                else:\n",
    "                    print(\"Failed to generate code with Gemini.\")\n",
    "            else:\n",
    "                print(\"Gemini model is not available.\")"
   ]
  },
  {
   "cell_type": "code",
   "execution_count": 26,
   "id": "3b2f0064",
   "metadata": {},
   "outputs": [
    {
     "name": "stdout",
     "output_type": "stream",
     "text": [
      "Successfully initialized Gemini model: gemini-2.0-flash\n"
     ]
    },
    {
     "data": {
      "text/markdown": [
       "--------------------------------------------------------------------------------"
      ],
      "text/plain": [
       "<IPython.core.display.Markdown object>"
      ]
     },
     "metadata": {},
     "output_type": "display_data"
    },
    {
     "data": {
      "text/markdown": [
       "## Welcome to the Gemini-powered Coding Assistant!"
      ],
      "text/plain": [
       "<IPython.core.display.Markdown object>"
      ]
     },
     "metadata": {},
     "output_type": "display_data"
    },
    {
     "name": "stdout",
     "output_type": "stream",
     "text": [
      "Generating code using Gemini...\n",
      "Q. What is the pandas function to check null values?\n",
      "\n"
     ]
    },
    {
     "data": {
      "text/markdown": [
       "The primary function in pandas to check for null values is `isnull()`.\n",
       "\n",
       "Here's how you can use it:\n",
       "\n",
       "1.  **To check for null values in a DataFrame:**\n",
       "\n",
       "    *   `df.isnull()`: This will return a DataFrame of the same shape as `df`, but with boolean values. Each `True` indicates a null value, and each `False` indicates a non-null value.\n",
       "    *   `df.isnull().sum()`: This counts the number of null values in each column of the DataFrame.\n",
       "2.  **To check for null values in a Series:**\n",
       "\n",
       "    *   `series.isnull()`:  This returns a Series with boolean values, where `True` indicates a null value and `False` indicates a non-null value.\n",
       "3.  **To check if a particular cell is null:**\n",
       "\n",
       "    *   `df.isnull().iloc[row_index, column_index]`:  This returns `True` if the cell at the specified row and column index is null, and `False` otherwise.\n",
       "\n",
       "In addition to `isnull()`, there's also a `notnull()` function, which does the opposite. It returns `True` for non-null values and `False` for null values.\n"
      ],
      "text/plain": [
       "<IPython.core.display.Markdown object>"
      ]
     },
     "metadata": {},
     "output_type": "display_data"
    },
    {
     "data": {
      "text/markdown": [
       "----"
      ],
      "text/plain": [
       "<IPython.core.display.Markdown object>"
      ]
     },
     "metadata": {},
     "output_type": "display_data"
    },
    {
     "name": "stdout",
     "output_type": "stream",
     "text": [
      "Generating code using Gemini...\n",
      "Q. what is property in python?\n",
      "\n"
     ]
    },
    {
     "data": {
      "text/markdown": [
       "In Python, a `property` is a way to manage class attributes, providing more control over how they are accessed and modified. It's a powerful feature that allows you to encapsulate attribute access and add logic to the process, like validation or computation, without changing the class's public interface.\n",
       "\n",
       "Here's a breakdown of what `property` in Python entails:\n",
       "\n",
       "**1. Managed Attributes**\n",
       "\n",
       "*   `property` turns class attributes into what are often called \"managed attributes\".\n",
       "*   It provides a way to define methods that can be accessed like attributes, offering intuitive access to a class's data.\n",
       "\n",
       "**2. Getters, Setters, and Deleters**\n",
       "\n",
       "*   The `property` mechanism allows you to define getter, setter, and deleter methods for an attribute.\n",
       "    *   **Getter:**  A method to retrieve the value of the attribute.\n",
       "    *   **Setter:** A method to set or modify the value of the attribute, allowing you to add validation or processing logic.\n",
       "    *   **Deleter:** A method to delete the attribute.\n",
       "\n",
       "**3. How to use `property`**\n",
       "\n",
       "*   **`property()` function:** `property()` is a built-in function in Python used to create a property of a class\n",
       "*   **`@property` decorator:**  The most common and Pythonic way to define a property is by using the `@property` decorator.\n",
       "\n",
       "**4. Benefits of Using `property`**\n",
       "\n",
       "*   **Encapsulation:**  Hides the internal implementation details of an attribute and prevents direct access, thus protecting data integrity.\n",
       "*   **Data Validation:** Allows you to validate new values before setting them to an attribute, preventing incorrect or invalid data.\n",
       "*   **Readability:** Makes code cleaner and more readable by allowing you to access methods like attributes\n",
       "*   **Computed Attributes:** Can be used to create attributes whose values are computed dynamically.\n",
       "*   **Backward Compatibility:**  Allows you to modify the internal implementation of a class without affecting the external code that uses it.\n",
       "*   **Controlled Access:**  You can make attributes read-only (by only defining a getter) or provide controlled read-write access with validation.\n"
      ],
      "text/plain": [
       "<IPython.core.display.Markdown object>"
      ]
     },
     "metadata": {},
     "output_type": "display_data"
    },
    {
     "data": {
      "text/markdown": [
       "----"
      ],
      "text/plain": [
       "<IPython.core.display.Markdown object>"
      ]
     },
     "metadata": {},
     "output_type": "display_data"
    },
    {
     "name": "stdout",
     "output_type": "stream",
     "text": [
      "Generating code using Gemini...\n",
      "Q. What is latest version of python released?\n",
      "\n"
     ]
    },
    {
     "data": {
      "text/markdown": [
       "The latest stable version of Python available for download is **Python 3.13.3**, which was released on April 8, 2025. However, it's worth noting that Python 3.13 is a recent major version, officially released on October 7, 2024.\n"
      ],
      "text/plain": [
       "<IPython.core.display.Markdown object>"
      ]
     },
     "metadata": {},
     "output_type": "display_data"
    },
    {
     "data": {
      "text/markdown": [
       "----"
      ],
      "text/plain": [
       "<IPython.core.display.Markdown object>"
      ]
     },
     "metadata": {},
     "output_type": "display_data"
    }
   ],
   "source": [
    "agent = GeminiCodingAgent(GOOGLE_API_KEY, model_name=\"gemini-2.0-flash\")\n",
    "agent.interact()"
   ]
  }
 ],
 "metadata": {
  "kernelspec": {
   "display_name": "venv",
   "language": "python",
   "name": "python3"
  },
  "language_info": {
   "codemirror_mode": {
    "name": "ipython",
    "version": 3
   },
   "file_extension": ".py",
   "mimetype": "text/x-python",
   "name": "python",
   "nbconvert_exporter": "python",
   "pygments_lexer": "ipython3",
   "version": "3.9.6"
  }
 },
 "nbformat": 4,
 "nbformat_minor": 5
}
